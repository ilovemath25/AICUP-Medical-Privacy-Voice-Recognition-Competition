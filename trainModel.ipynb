{
 "cells": [
  {
   "cell_type": "code",
   "execution_count": 1,
   "id": "d01b897e",
   "metadata": {},
   "outputs": [
    {
     "name": "stdout",
     "output_type": "stream",
     "text": [
      "WARNING:tensorflow:From c:\\Users\\user\\AppData\\Local\\Programs\\Python\\Python312\\Lib\\site-packages\\tf_keras\\src\\losses.py:2976: The name tf.losses.sparse_softmax_cross_entropy is deprecated. Please use tf.compat.v1.losses.sparse_softmax_cross_entropy instead.\n",
      "\n"
     ]
    }
   ],
   "source": [
    "import os\n",
    "import shutil\n",
    "import torch\n",
    "import librosa\n",
    "import pandas as pd\n",
    "from datasets import Dataset, DatasetDict\n",
    "from transformers import Wav2Vec2Processor, Wav2Vec2ForCTC, TrainingArguments, Trainer\n",
    "from dataCVC import DataCollatorCTCWithPadding\n",
    "from sklearn.model_selection import train_test_split"
   ]
  },
  {
   "cell_type": "code",
   "execution_count": 2,
   "id": "71cbd6e1",
   "metadata": {},
   "outputs": [],
   "source": [
    "model_name = \"./wav2vec2_finetuned\"\n",
    "processor = Wav2Vec2Processor.from_pretrained(model_name)\n",
    "model = Wav2Vec2ForCTC.from_pretrained(model_name)"
   ]
  },
  {
   "cell_type": "code",
   "execution_count": 3,
   "id": "5a4f3493",
   "metadata": {},
   "outputs": [],
   "source": [
    "def preprocess(batch):\n",
    "    speech_array, _ = librosa.load(batch[\"audio\"], sr=16000)\n",
    "    inputs = processor(\n",
    "        speech_array,\n",
    "        sampling_rate=16000,\n",
    "        return_tensors=\"pt\",\n",
    "        padding=True,\n",
    "        return_attention_mask=True,\n",
    "    )\n",
    "    labels = processor.tokenizer(batch[\"text\"]).input_ids\n",
    "    batch[\"input_values\"] = inputs.input_values[0]\n",
    "    if \"attention_mask\" in inputs:\n",
    "        batch[\"attention_mask\"] = inputs.attention_mask[0]\n",
    "    batch[\"labels\"] = torch.tensor(labels)\n",
    "    return batch"
   ]
  },
  {
   "cell_type": "markdown",
   "id": "839f2f3b",
   "metadata": {},
   "source": [
    "Audio From Competition Dataset"
   ]
  },
  {
   "cell_type": "code",
   "execution_count": 4,
   "id": "b940766f",
   "metadata": {},
   "outputs": [
    {
     "data": {
      "application/vnd.jupyter.widget-view+json": {
       "model_id": "80f9e89ad91c4b02b3ec90c2a1cd4e16",
       "version_major": 2,
       "version_minor": 0
      },
      "text/plain": [
       "Map:   0%|          | 0/588 [00:00<?, ? examples/s]"
      ]
     },
     "metadata": {},
     "output_type": "display_data"
    },
    {
     "data": {
      "application/vnd.jupyter.widget-view+json": {
       "model_id": "c09b234c84c9474ba7bc76e211c868c5",
       "version_major": 2,
       "version_minor": 0
      },
      "text/plain": [
       "Map:   0%|          | 0/73 [00:00<?, ? examples/s]"
      ]
     },
     "metadata": {},
     "output_type": "display_data"
    },
    {
     "data": {
      "application/vnd.jupyter.widget-view+json": {
       "model_id": "c624bff769ad427998faaf79ea7e5e99",
       "version_major": 2,
       "version_minor": 0
      },
      "text/plain": [
       "Map:   0%|          | 0/74 [00:00<?, ? examples/s]"
      ]
     },
     "metadata": {},
     "output_type": "display_data"
    }
   ],
   "source": [
    "df = pd.read_csv(\"./audio_dataset/AudioFromCompetition.txt\", sep=\"\\t\", header=None, names=[\"id\", \"phrase\"])\n",
    "audio_dir = \"./audio_dataset/AudioFromCompetition\"\n",
    "df[\"text\"] = df[\"phrase\"].str.upper().str.replace(r\"[^A-Z' ]\", \"\", regex=True)\n",
    "df[\"text\"] = df[\"text\"].str.replace(\" \", \"|\")\n",
    "df[\"file_name\"] = df[\"id\"].astype(str) + \".wav\"\n",
    "audio_dir = \"./audio_dataset/AudioFromCompetition\"\n",
    "df[\"audio\"] = df[\"file_name\"].apply(lambda x: os.path.join(audio_dir, x))\n",
    "\n",
    "train_df, temp_df = train_test_split(df, test_size=0.2, random_state=42)\n",
    "val_df, test_df = train_test_split(temp_df, test_size=0.5, random_state=42)\n",
    "\n",
    "train_df.to_csv(\"./audio_dataset/AudioFromCompetition_train.txt\", sep=\"\\t\", index=False, header=False)\n",
    "val_df.to_csv(\"./audio_dataset/AudioFromCompetition_validation.txt\", sep=\"\\t\", index=False, header=False)\n",
    "test_df.to_csv(\"./audio_dataset/AudioFromCompetition_test.txt\", sep=\"\\t\", index=False, header=False)\n",
    "\n",
    "train_dataset = Dataset.from_pandas(train_df)\n",
    "val_dataset = Dataset.from_pandas(val_df)\n",
    "test_dataset = Dataset.from_pandas(test_df)\n",
    "\n",
    "dataset = DatasetDict({\n",
    "    \"train\": train_dataset,\n",
    "    \"validation\": val_dataset,\n",
    "    \"test\": test_dataset\n",
    "})\n",
    "dataset = dataset.map(preprocess, remove_columns=[\"id\", \"phrase\"], num_proc=1)\n",
    "data_collator = DataCollatorCTCWithPadding(processor=processor, padding=True)"
   ]
  },
  {
   "cell_type": "markdown",
   "id": "73791993",
   "metadata": {},
   "source": [
    "Medical Speech Intent Dataset"
   ]
  },
  {
   "cell_type": "code",
   "execution_count": 30,
   "id": "fca3cdd4",
   "metadata": {},
   "outputs": [
    {
     "data": {
      "application/vnd.jupyter.widget-view+json": {
       "model_id": "9a50be501caf4b9a8e74905c2167f6b5",
       "version_major": 2,
       "version_minor": 0
      },
      "text/plain": [
       "Map:   0%|          | 0/800 [00:00<?, ? examples/s]"
      ]
     },
     "metadata": {},
     "output_type": "display_data"
    },
    {
     "data": {
      "application/vnd.jupyter.widget-view+json": {
       "model_id": "b7eef80400ce47b39f0992e5557c4f11",
       "version_major": 2,
       "version_minor": 0
      },
      "text/plain": [
       "Map:   0%|          | 0/100 [00:00<?, ? examples/s]"
      ]
     },
     "metadata": {},
     "output_type": "display_data"
    },
    {
     "data": {
      "application/vnd.jupyter.widget-view+json": {
       "model_id": "8a6ee70e41cf493492de8c76e6b2539c",
       "version_major": 2,
       "version_minor": 0
      },
      "text/plain": [
       "Map:   0%|          | 0/100 [00:00<?, ? examples/s]"
      ]
     },
     "metadata": {},
     "output_type": "display_data"
    }
   ],
   "source": [
    "df = pd.read_csv(\"./audio_dataset/MedicalSpeechIntent.csv\")\n",
    "df = df.sample(n=1000, random_state=42)\n",
    "df[\"text\"] = df[\"phrase\"].str.upper().str.replace(r\"[^A-Z' ]\", \"\", regex=True)\n",
    "df[\"text\"] = df[\"text\"].str.replace(\" \", \"|\")\n",
    "audio_dir = \"./audio_dataset/MedicalSpeechIntent\"\n",
    "df[\"audio\"] = df[\"file_name\"].apply(lambda x: os.path.join(audio_dir, x))\n",
    "\n",
    "train_df, temp_df = train_test_split(df, test_size=0.2, random_state=42)\n",
    "val_df, test_df = train_test_split(temp_df, test_size=0.5, random_state=42)\n",
    "\n",
    "train_df.to_csv(\"./audio_dataset/MedicalSpeechIntent_train.csv\", index=False)\n",
    "val_df.to_csv(\"./audio_dataset/MedicalSpeechIntent_validation.csv\", index=False)\n",
    "test_df.to_csv(\"./audio_dataset/MedicalSpeechIntent_test.csv\", index=False)\n",
    "\n",
    "train_dataset = Dataset.from_pandas(train_df)\n",
    "val_dataset = Dataset.from_pandas(val_df)\n",
    "test_dataset = Dataset.from_pandas(test_df)\n",
    "\n",
    "dataset = DatasetDict({\n",
    "    \"train\": train_dataset,\n",
    "    \"validation\": val_dataset,\n",
    "    \"test\": test_dataset,\n",
    "})\n",
    "dataset = dataset.map(preprocess, remove_columns=dataset[\"train\"].column_names, num_proc=1)\n",
    "data_collator = DataCollatorCTCWithPadding(processor=processor, padding=True)"
   ]
  },
  {
   "cell_type": "code",
   "execution_count": 5,
   "id": "c86335ec",
   "metadata": {},
   "outputs": [],
   "source": [
    "training_args = TrainingArguments(\n",
    "    output_dir=\"./wav2vec2_checkpoints\",\n",
    "    per_device_train_batch_size=4,\n",
    "    save_steps=100,\n",
    "    num_train_epochs=1,\n",
    "    logging_steps=25,\n",
    "    learning_rate=1e-4,\n",
    "    warmup_steps=50,\n",
    "    # max_steps=300,\n",
    "    fp16=torch.cuda.is_available()\n",
    ")\n",
    "\n",
    "trainer = Trainer(\n",
    "    model=model,\n",
    "    args=training_args,\n",
    "    train_dataset=dataset[\"train\"],\n",
    "    eval_dataset=dataset[\"validation\"],\n",
    "    processing_class=processor.feature_extractor,\n",
    "    data_collator=data_collator,\n",
    ")\n"
   ]
  },
  {
   "cell_type": "code",
   "execution_count": null,
   "id": "275d1d85",
   "metadata": {},
   "outputs": [
    {
     "name": "stderr",
     "output_type": "stream",
     "text": [
      "c:\\Users\\user\\AppData\\Local\\Programs\\Python\\Python312\\Lib\\site-packages\\torch\\utils\\data\\dataloader.py:665: UserWarning: 'pin_memory' argument is set as true but no accelerator is found, then device pinned memory won't be used.\n",
      "  warnings.warn(warn_msg)\n",
      "c:\\Users\\user\\AppData\\Local\\Programs\\Python\\Python312\\Lib\\site-packages\\transformers\\models\\wav2vec2\\processing_wav2vec2.py:174: UserWarning: `as_target_processor` is deprecated and will be removed in v5 of Transformers. You can process your labels by using the argument `text` of the regular `__call__` method (either in the same call as your audio inputs, or in a separate call.\n",
      "  warnings.warn(\n"
     ]
    },
    {
     "data": {
      "text/html": [
       "\n",
       "    <div>\n",
       "      \n",
       "      <progress value='4' max='147' style='width:300px; height:20px; vertical-align: middle;'></progress>\n",
       "      [  4/147 07:28 < 8:54:07, 0.00 it/s, Epoch 0.02/1]\n",
       "    </div>\n",
       "    <table border=\"1\" class=\"dataframe\">\n",
       "  <thead>\n",
       " <tr style=\"text-align: left;\">\n",
       "      <th>Step</th>\n",
       "      <th>Training Loss</th>\n",
       "    </tr>\n",
       "  </thead>\n",
       "  <tbody>\n",
       "  </tbody>\n",
       "</table><p>"
      ],
      "text/plain": [
       "<IPython.core.display.HTML object>"
      ]
     },
     "metadata": {},
     "output_type": "display_data"
    }
   ],
   "source": [
    "# trainer.train(resume_from_checkpoint=\"./wav2vec2_checkpoints/checkpoint-2000\")\n",
    "trainer.train()"
   ]
  },
  {
   "cell_type": "code",
   "execution_count": 26,
   "id": "cab4d6fb",
   "metadata": {},
   "outputs": [
    {
     "data": {
      "text/plain": [
       "[]"
      ]
     },
     "execution_count": 26,
     "metadata": {},
     "output_type": "execute_result"
    }
   ],
   "source": [
    "model_dir = \"./wav2vec2_finetuned\"\n",
    "if os.path.exists(model_dir):\n",
    "    shutil.rmtree(model_dir)\n",
    "trainer.save_model(model_dir)\n",
    "processor.save_pretrained(model_dir)"
   ]
  }
 ],
 "metadata": {
  "kernelspec": {
   "display_name": "Python 3",
   "language": "python",
   "name": "python3"
  },
  "language_info": {
   "codemirror_mode": {
    "name": "ipython",
    "version": 3
   },
   "file_extension": ".py",
   "mimetype": "text/x-python",
   "name": "python",
   "nbconvert_exporter": "python",
   "pygments_lexer": "ipython3",
   "version": "3.12.0"
  }
 },
 "nbformat": 4,
 "nbformat_minor": 5
}
